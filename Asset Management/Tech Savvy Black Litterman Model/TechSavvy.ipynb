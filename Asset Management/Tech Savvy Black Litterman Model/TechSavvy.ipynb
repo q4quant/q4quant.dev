{
 "cells": [
  {
   "cell_type": "code",
   "execution_count": 6,
   "metadata": {},
   "outputs": [],
   "source": [
    "import pandas as pd\n",
    "import yfinance as yf\n",
    "import numpy as np\n",
    "import matplotlib.pyplot as plt\n",
    "import seaborn as sns\n",
    "import plotly.express as px\n",
    "import plotly.graph_objects as go\n"
   ]
  },
  {
   "cell_type": "markdown",
   "metadata": {},
   "source": [
    "# 1. Set up the Prior"
   ]
  },
  {
   "cell_type": "code",
   "execution_count": 7,
   "metadata": {},
   "outputs": [],
   "source": [
    "assets = [\"NVDA\", \"TSM\", \"MSFT\", \"GOOG\", \"AMZN\", \"META\", \"TSLA\"]\n",
    "assets.sort()\n",
    "start_date = '2015-01-01'\n",
    "end_date = '2024-12-31'"
   ]
  },
  {
   "cell_type": "code",
   "execution_count": 8,
   "metadata": {},
   "outputs": [],
   "source": [
    "# data = yf.download(assets, start=start_date, end=end_date)['Close']\n",
    "# data.to_csv('TechSavvy_assetPrice.csv')"
   ]
  },
  {
   "cell_type": "code",
   "execution_count": 9,
   "metadata": {},
   "outputs": [
    {
     "data": {
      "text/html": [
       "<div>\n",
       "<style scoped>\n",
       "    .dataframe tbody tr th:only-of-type {\n",
       "        vertical-align: middle;\n",
       "    }\n",
       "\n",
       "    .dataframe tbody tr th {\n",
       "        vertical-align: top;\n",
       "    }\n",
       "\n",
       "    .dataframe thead th {\n",
       "        text-align: right;\n",
       "    }\n",
       "</style>\n",
       "<table border=\"1\" class=\"dataframe\">\n",
       "  <thead>\n",
       "    <tr style=\"text-align: right;\">\n",
       "      <th></th>\n",
       "      <th>AMZN</th>\n",
       "      <th>GOOG</th>\n",
       "      <th>META</th>\n",
       "      <th>MSFT</th>\n",
       "      <th>NVDA</th>\n",
       "      <th>TSLA</th>\n",
       "      <th>TSM</th>\n",
       "    </tr>\n",
       "    <tr>\n",
       "      <th>Date</th>\n",
       "      <th></th>\n",
       "      <th></th>\n",
       "      <th></th>\n",
       "      <th></th>\n",
       "      <th></th>\n",
       "      <th></th>\n",
       "      <th></th>\n",
       "    </tr>\n",
       "  </thead>\n",
       "  <tbody>\n",
       "    <tr>\n",
       "      <th>2015-01-02</th>\n",
       "      <td>15.4260</td>\n",
       "      <td>26.045292</td>\n",
       "      <td>78.082001</td>\n",
       "      <td>40.072132</td>\n",
       "      <td>0.483099</td>\n",
       "      <td>14.620667</td>\n",
       "      <td>16.790493</td>\n",
       "    </tr>\n",
       "    <tr>\n",
       "      <th>2015-01-05</th>\n",
       "      <td>15.1095</td>\n",
       "      <td>25.502361</td>\n",
       "      <td>76.827919</td>\n",
       "      <td>39.703636</td>\n",
       "      <td>0.474939</td>\n",
       "      <td>14.006000</td>\n",
       "      <td>16.383539</td>\n",
       "    </tr>\n",
       "    <tr>\n",
       "      <th>2015-01-06</th>\n",
       "      <td>14.7645</td>\n",
       "      <td>24.911289</td>\n",
       "      <td>75.792793</td>\n",
       "      <td>39.120903</td>\n",
       "      <td>0.460540</td>\n",
       "      <td>14.085333</td>\n",
       "      <td>16.097170</td>\n",
       "    </tr>\n",
       "    <tr>\n",
       "      <th>2015-01-07</th>\n",
       "      <td>14.9210</td>\n",
       "      <td>24.868612</td>\n",
       "      <td>75.792793</td>\n",
       "      <td>39.617935</td>\n",
       "      <td>0.459340</td>\n",
       "      <td>14.063333</td>\n",
       "      <td>16.330788</td>\n",
       "    </tr>\n",
       "    <tr>\n",
       "      <th>2015-01-08</th>\n",
       "      <td>15.0230</td>\n",
       "      <td>24.947023</td>\n",
       "      <td>77.813271</td>\n",
       "      <td>40.783421</td>\n",
       "      <td>0.476619</td>\n",
       "      <td>14.041333</td>\n",
       "      <td>16.436293</td>\n",
       "    </tr>\n",
       "  </tbody>\n",
       "</table>\n",
       "</div>"
      ],
      "text/plain": [
       "               AMZN       GOOG       META       MSFT      NVDA       TSLA  \\\n",
       "Date                                                                        \n",
       "2015-01-02  15.4260  26.045292  78.082001  40.072132  0.483099  14.620667   \n",
       "2015-01-05  15.1095  25.502361  76.827919  39.703636  0.474939  14.006000   \n",
       "2015-01-06  14.7645  24.911289  75.792793  39.120903  0.460540  14.085333   \n",
       "2015-01-07  14.9210  24.868612  75.792793  39.617935  0.459340  14.063333   \n",
       "2015-01-08  15.0230  24.947023  77.813271  40.783421  0.476619  14.041333   \n",
       "\n",
       "                  TSM  \n",
       "Date                   \n",
       "2015-01-02  16.790493  \n",
       "2015-01-05  16.383539  \n",
       "2015-01-06  16.097170  \n",
       "2015-01-07  16.330788  \n",
       "2015-01-08  16.436293  "
      ]
     },
     "execution_count": 9,
     "metadata": {},
     "output_type": "execute_result"
    }
   ],
   "source": [
    "assets_data = pd.read_csv('TechSavvy_assetPrice.csv')\n",
    "assets_data.index = pd.to_datetime(assets_data['Date'])\n",
    "assets_data.drop(columns=['Date'], inplace=True)\n",
    "assets_data.head()"
   ]
  },
  {
   "cell_type": "code",
   "execution_count": 10,
   "metadata": {},
   "outputs": [
    {
     "data": {
      "text/html": [
       "<div>\n",
       "<style scoped>\n",
       "    .dataframe tbody tr th:only-of-type {\n",
       "        vertical-align: middle;\n",
       "    }\n",
       "\n",
       "    .dataframe tbody tr th {\n",
       "        vertical-align: top;\n",
       "    }\n",
       "\n",
       "    .dataframe thead th {\n",
       "        text-align: right;\n",
       "    }\n",
       "</style>\n",
       "<table border=\"1\" class=\"dataframe\">\n",
       "  <thead>\n",
       "    <tr style=\"text-align: right;\">\n",
       "      <th></th>\n",
       "      <th>AMZN</th>\n",
       "      <th>GOOG</th>\n",
       "      <th>META</th>\n",
       "      <th>MSFT</th>\n",
       "      <th>NVDA</th>\n",
       "      <th>TSLA</th>\n",
       "      <th>TSM</th>\n",
       "    </tr>\n",
       "    <tr>\n",
       "      <th>Date</th>\n",
       "      <th></th>\n",
       "      <th></th>\n",
       "      <th></th>\n",
       "      <th></th>\n",
       "      <th></th>\n",
       "      <th></th>\n",
       "      <th></th>\n",
       "    </tr>\n",
       "  </thead>\n",
       "  <tbody>\n",
       "    <tr>\n",
       "      <th>2015-01-05</th>\n",
       "      <td>-0.020517</td>\n",
       "      <td>-0.020846</td>\n",
       "      <td>-0.016061</td>\n",
       "      <td>-0.009196</td>\n",
       "      <td>-0.016890</td>\n",
       "      <td>-0.042041</td>\n",
       "      <td>-0.024237</td>\n",
       "    </tr>\n",
       "    <tr>\n",
       "      <th>2015-01-06</th>\n",
       "      <td>-0.022833</td>\n",
       "      <td>-0.023177</td>\n",
       "      <td>-0.013473</td>\n",
       "      <td>-0.014677</td>\n",
       "      <td>-0.030318</td>\n",
       "      <td>0.005664</td>\n",
       "      <td>-0.017479</td>\n",
       "    </tr>\n",
       "    <tr>\n",
       "      <th>2015-01-07</th>\n",
       "      <td>0.010600</td>\n",
       "      <td>-0.001713</td>\n",
       "      <td>0.000000</td>\n",
       "      <td>0.012705</td>\n",
       "      <td>-0.002605</td>\n",
       "      <td>-0.001562</td>\n",
       "      <td>0.014513</td>\n",
       "    </tr>\n",
       "    <tr>\n",
       "      <th>2015-01-08</th>\n",
       "      <td>0.006836</td>\n",
       "      <td>0.003153</td>\n",
       "      <td>0.026658</td>\n",
       "      <td>0.029418</td>\n",
       "      <td>0.037617</td>\n",
       "      <td>-0.001564</td>\n",
       "      <td>0.006460</td>\n",
       "    </tr>\n",
       "    <tr>\n",
       "      <th>2015-01-09</th>\n",
       "      <td>-0.011749</td>\n",
       "      <td>-0.012951</td>\n",
       "      <td>-0.005628</td>\n",
       "      <td>-0.008405</td>\n",
       "      <td>0.004028</td>\n",
       "      <td>-0.018802</td>\n",
       "      <td>-0.027968</td>\n",
       "    </tr>\n",
       "    <tr>\n",
       "      <th>...</th>\n",
       "      <td>...</td>\n",
       "      <td>...</td>\n",
       "      <td>...</td>\n",
       "      <td>...</td>\n",
       "      <td>...</td>\n",
       "      <td>...</td>\n",
       "      <td>...</td>\n",
       "    </tr>\n",
       "    <tr>\n",
       "      <th>2024-12-23</th>\n",
       "      <td>0.000622</td>\n",
       "      <td>0.015703</td>\n",
       "      <td>0.024947</td>\n",
       "      <td>-0.003092</td>\n",
       "      <td>0.036897</td>\n",
       "      <td>0.022657</td>\n",
       "      <td>0.051468</td>\n",
       "    </tr>\n",
       "    <tr>\n",
       "      <th>2024-12-24</th>\n",
       "      <td>0.017729</td>\n",
       "      <td>0.008062</td>\n",
       "      <td>0.013170</td>\n",
       "      <td>0.009374</td>\n",
       "      <td>0.003938</td>\n",
       "      <td>0.073572</td>\n",
       "      <td>-0.004967</td>\n",
       "    </tr>\n",
       "    <tr>\n",
       "      <th>2024-12-26</th>\n",
       "      <td>-0.008732</td>\n",
       "      <td>-0.002379</td>\n",
       "      <td>-0.007240</td>\n",
       "      <td>-0.002777</td>\n",
       "      <td>-0.002068</td>\n",
       "      <td>-0.017630</td>\n",
       "      <td>-0.015848</td>\n",
       "    </tr>\n",
       "    <tr>\n",
       "      <th>2024-12-27</th>\n",
       "      <td>-0.014534</td>\n",
       "      <td>-0.015525</td>\n",
       "      <td>-0.005867</td>\n",
       "      <td>-0.017302</td>\n",
       "      <td>-0.020868</td>\n",
       "      <td>-0.049479</td>\n",
       "      <td>-0.007042</td>\n",
       "    </tr>\n",
       "    <tr>\n",
       "      <th>2024-12-30</th>\n",
       "      <td>-0.010950</td>\n",
       "      <td>-0.006957</td>\n",
       "      <td>-0.014288</td>\n",
       "      <td>-0.013240</td>\n",
       "      <td>0.003503</td>\n",
       "      <td>-0.033012</td>\n",
       "      <td>-0.006150</td>\n",
       "    </tr>\n",
       "  </tbody>\n",
       "</table>\n",
       "<p>2514 rows × 7 columns</p>\n",
       "</div>"
      ],
      "text/plain": [
       "                AMZN      GOOG      META      MSFT      NVDA      TSLA  \\\n",
       "Date                                                                     \n",
       "2015-01-05 -0.020517 -0.020846 -0.016061 -0.009196 -0.016890 -0.042041   \n",
       "2015-01-06 -0.022833 -0.023177 -0.013473 -0.014677 -0.030318  0.005664   \n",
       "2015-01-07  0.010600 -0.001713  0.000000  0.012705 -0.002605 -0.001562   \n",
       "2015-01-08  0.006836  0.003153  0.026658  0.029418  0.037617 -0.001564   \n",
       "2015-01-09 -0.011749 -0.012951 -0.005628 -0.008405  0.004028 -0.018802   \n",
       "...              ...       ...       ...       ...       ...       ...   \n",
       "2024-12-23  0.000622  0.015703  0.024947 -0.003092  0.036897  0.022657   \n",
       "2024-12-24  0.017729  0.008062  0.013170  0.009374  0.003938  0.073572   \n",
       "2024-12-26 -0.008732 -0.002379 -0.007240 -0.002777 -0.002068 -0.017630   \n",
       "2024-12-27 -0.014534 -0.015525 -0.005867 -0.017302 -0.020868 -0.049479   \n",
       "2024-12-30 -0.010950 -0.006957 -0.014288 -0.013240  0.003503 -0.033012   \n",
       "\n",
       "                 TSM  \n",
       "Date                  \n",
       "2015-01-05 -0.024237  \n",
       "2015-01-06 -0.017479  \n",
       "2015-01-07  0.014513  \n",
       "2015-01-08  0.006460  \n",
       "2015-01-09 -0.027968  \n",
       "...              ...  \n",
       "2024-12-23  0.051468  \n",
       "2024-12-24 -0.004967  \n",
       "2024-12-26 -0.015848  \n",
       "2024-12-27 -0.007042  \n",
       "2024-12-30 -0.006150  \n",
       "\n",
       "[2514 rows x 7 columns]"
      ]
     },
     "execution_count": 10,
     "metadata": {},
     "output_type": "execute_result"
    }
   ],
   "source": [
    "return_data = assets_data.pct_change()\n",
    "return_data = return_data.iloc[1:]\n",
    "return_data"
   ]
  },
  {
   "cell_type": "code",
   "execution_count": 11,
   "metadata": {},
   "outputs": [],
   "source": [
    "# market_caps = pd.DataFrame({'Asset': assets, 'Market Cap': ''})\n",
    "# # columns are asset ticker and blank values\n",
    "\n",
    "# for asset in assets:\n",
    "#     mcap = yf.Ticker(asset).info['marketCap']\n",
    "#     market_caps.loc[market_caps['Asset'] == asset, 'Market Cap'] = mcap\n",
    "\n",
    "# market_caps.to_csv('TechSavvy_marketCaps.csv')"
   ]
  },
  {
   "cell_type": "code",
   "execution_count": 12,
   "metadata": {},
   "outputs": [
    {
     "data": {
      "text/html": [
       "<div>\n",
       "<style scoped>\n",
       "    .dataframe tbody tr th:only-of-type {\n",
       "        vertical-align: middle;\n",
       "    }\n",
       "\n",
       "    .dataframe tbody tr th {\n",
       "        vertical-align: top;\n",
       "    }\n",
       "\n",
       "    .dataframe thead th {\n",
       "        text-align: right;\n",
       "    }\n",
       "</style>\n",
       "<table border=\"1\" class=\"dataframe\">\n",
       "  <thead>\n",
       "    <tr style=\"text-align: right;\">\n",
       "      <th></th>\n",
       "      <th>Asset</th>\n",
       "      <th>Market Cap</th>\n",
       "    </tr>\n",
       "  </thead>\n",
       "  <tbody>\n",
       "    <tr>\n",
       "      <th>0</th>\n",
       "      <td>AMZN</td>\n",
       "      <td>2180052811776</td>\n",
       "    </tr>\n",
       "    <tr>\n",
       "      <th>1</th>\n",
       "      <td>GOOG</td>\n",
       "      <td>2091000791040</td>\n",
       "    </tr>\n",
       "    <tr>\n",
       "      <th>2</th>\n",
       "      <td>META</td>\n",
       "      <td>1586856591360</td>\n",
       "    </tr>\n",
       "    <tr>\n",
       "      <th>3</th>\n",
       "      <td>MSFT</td>\n",
       "      <td>2937611616256</td>\n",
       "    </tr>\n",
       "    <tr>\n",
       "      <th>4</th>\n",
       "      <td>NVDA</td>\n",
       "      <td>2944836042752</td>\n",
       "    </tr>\n",
       "    <tr>\n",
       "      <th>5</th>\n",
       "      <td>TSLA</td>\n",
       "      <td>926808080384</td>\n",
       "    </tr>\n",
       "    <tr>\n",
       "      <th>6</th>\n",
       "      <td>TSM</td>\n",
       "      <td>938246799360</td>\n",
       "    </tr>\n",
       "  </tbody>\n",
       "</table>\n",
       "</div>"
      ],
      "text/plain": [
       "  Asset     Market Cap\n",
       "0  AMZN  2180052811776\n",
       "1  GOOG  2091000791040\n",
       "2  META  1586856591360\n",
       "3  MSFT  2937611616256\n",
       "4  NVDA  2944836042752\n",
       "5  TSLA   926808080384\n",
       "6   TSM   938246799360"
      ]
     },
     "execution_count": 12,
     "metadata": {},
     "output_type": "execute_result"
    }
   ],
   "source": [
    "market_caps = pd.read_csv('TechSavvy_marketCaps.csv')\n",
    "market_caps.drop(columns=['Unnamed: 0'], inplace=True)\n",
    "market_caps"
   ]
  },
  {
   "cell_type": "code",
   "execution_count": 13,
   "metadata": {},
   "outputs": [
    {
     "data": {
      "text/plain": [
       "Asset\n",
       "AMZN    0.160234\n",
       "GOOG    0.153689\n",
       "META    0.116634\n",
       "MSFT    0.215915\n",
       "NVDA    0.216446\n",
       "TSLA    0.068121\n",
       "TSM     0.068961\n",
       "dtype: float64"
      ]
     },
     "execution_count": 13,
     "metadata": {},
     "output_type": "execute_result"
    }
   ],
   "source": [
    "mkt_weights = pd.Series(market_caps['Market Cap'].values, index=market_caps['Asset']) / market_caps['Market Cap'].sum()\n",
    "mkt_weights"
   ]
  },
  {
   "cell_type": "code",
   "execution_count": 14,
   "metadata": {},
   "outputs": [
    {
     "data": {
      "text/html": [
       "<div>\n",
       "<style scoped>\n",
       "    .dataframe tbody tr th:only-of-type {\n",
       "        vertical-align: middle;\n",
       "    }\n",
       "\n",
       "    .dataframe tbody tr th {\n",
       "        vertical-align: top;\n",
       "    }\n",
       "\n",
       "    .dataframe thead th {\n",
       "        text-align: right;\n",
       "    }\n",
       "</style>\n",
       "<table border=\"1\" class=\"dataframe\">\n",
       "  <thead>\n",
       "    <tr style=\"text-align: right;\">\n",
       "      <th></th>\n",
       "      <th>AMZN</th>\n",
       "      <th>GOOG</th>\n",
       "      <th>META</th>\n",
       "      <th>MSFT</th>\n",
       "      <th>NVDA</th>\n",
       "      <th>TSLA</th>\n",
       "      <th>TSM</th>\n",
       "    </tr>\n",
       "  </thead>\n",
       "  <tbody>\n",
       "    <tr>\n",
       "      <th>AMZN</th>\n",
       "      <td>0.107492</td>\n",
       "      <td>0.060430</td>\n",
       "      <td>0.072670</td>\n",
       "      <td>0.058567</td>\n",
       "      <td>0.080929</td>\n",
       "      <td>0.072641</td>\n",
       "      <td>0.044362</td>\n",
       "    </tr>\n",
       "    <tr>\n",
       "      <th>GOOG</th>\n",
       "      <td>0.060430</td>\n",
       "      <td>0.081252</td>\n",
       "      <td>0.066994</td>\n",
       "      <td>0.055168</td>\n",
       "      <td>0.072680</td>\n",
       "      <td>0.059150</td>\n",
       "      <td>0.042375</td>\n",
       "    </tr>\n",
       "    <tr>\n",
       "      <th>META</th>\n",
       "      <td>0.072670</td>\n",
       "      <td>0.066994</td>\n",
       "      <td>0.140598</td>\n",
       "      <td>0.059380</td>\n",
       "      <td>0.087209</td>\n",
       "      <td>0.068615</td>\n",
       "      <td>0.048854</td>\n",
       "    </tr>\n",
       "    <tr>\n",
       "      <th>MSFT</th>\n",
       "      <td>0.058567</td>\n",
       "      <td>0.055168</td>\n",
       "      <td>0.059380</td>\n",
       "      <td>0.073674</td>\n",
       "      <td>0.079351</td>\n",
       "      <td>0.062015</td>\n",
       "      <td>0.044755</td>\n",
       "    </tr>\n",
       "    <tr>\n",
       "      <th>NVDA</th>\n",
       "      <td>0.080929</td>\n",
       "      <td>0.072680</td>\n",
       "      <td>0.087209</td>\n",
       "      <td>0.079351</td>\n",
       "      <td>0.236291</td>\n",
       "      <td>0.111089</td>\n",
       "      <td>0.092230</td>\n",
       "    </tr>\n",
       "    <tr>\n",
       "      <th>TSLA</th>\n",
       "      <td>0.072641</td>\n",
       "      <td>0.059150</td>\n",
       "      <td>0.068615</td>\n",
       "      <td>0.062015</td>\n",
       "      <td>0.111089</td>\n",
       "      <td>0.326760</td>\n",
       "      <td>0.065893</td>\n",
       "    </tr>\n",
       "    <tr>\n",
       "      <th>TSM</th>\n",
       "      <td>0.044362</td>\n",
       "      <td>0.042375</td>\n",
       "      <td>0.048854</td>\n",
       "      <td>0.044755</td>\n",
       "      <td>0.092230</td>\n",
       "      <td>0.065893</td>\n",
       "      <td>0.102172</td>\n",
       "    </tr>\n",
       "  </tbody>\n",
       "</table>\n",
       "</div>"
      ],
      "text/plain": [
       "          AMZN      GOOG      META      MSFT      NVDA      TSLA       TSM\n",
       "AMZN  0.107492  0.060430  0.072670  0.058567  0.080929  0.072641  0.044362\n",
       "GOOG  0.060430  0.081252  0.066994  0.055168  0.072680  0.059150  0.042375\n",
       "META  0.072670  0.066994  0.140598  0.059380  0.087209  0.068615  0.048854\n",
       "MSFT  0.058567  0.055168  0.059380  0.073674  0.079351  0.062015  0.044755\n",
       "NVDA  0.080929  0.072680  0.087209  0.079351  0.236291  0.111089  0.092230\n",
       "TSLA  0.072641  0.059150  0.068615  0.062015  0.111089  0.326760  0.065893\n",
       "TSM   0.044362  0.042375  0.048854  0.044755  0.092230  0.065893  0.102172"
      ]
     },
     "execution_count": 14,
     "metadata": {},
     "output_type": "execute_result"
    }
   ],
   "source": [
    "cov_matrix = return_data.cov() * 252\n",
    "cov_matrix"
   ]
  },
  {
   "cell_type": "markdown",
   "metadata": {},
   "source": [
    "risk_aversion = $\\delta = \\frac{R - R_f}{\\sigma^2}$"
   ]
  },
  {
   "cell_type": "code",
   "execution_count": 15,
   "metadata": {},
   "outputs": [],
   "source": [
    "# sp500 = yf.Ticker('^GSPC')\n",
    "# sp500_data = sp500.history(start='2010-01-01', end='2024-12-31')['Close']\n",
    "# sp500_data.to_csv('TechSavvy_sp500.csv')"
   ]
  },
  {
   "cell_type": "code",
   "execution_count": 16,
   "metadata": {},
   "outputs": [
    {
     "data": {
      "text/html": [
       "<div>\n",
       "<style scoped>\n",
       "    .dataframe tbody tr th:only-of-type {\n",
       "        vertical-align: middle;\n",
       "    }\n",
       "\n",
       "    .dataframe tbody tr th {\n",
       "        vertical-align: top;\n",
       "    }\n",
       "\n",
       "    .dataframe thead th {\n",
       "        text-align: right;\n",
       "    }\n",
       "</style>\n",
       "<table border=\"1\" class=\"dataframe\">\n",
       "  <thead>\n",
       "    <tr style=\"text-align: right;\">\n",
       "      <th></th>\n",
       "      <th>Close</th>\n",
       "    </tr>\n",
       "    <tr>\n",
       "      <th>Date</th>\n",
       "      <th></th>\n",
       "    </tr>\n",
       "  </thead>\n",
       "  <tbody>\n",
       "    <tr>\n",
       "      <th>2010-01-04 05:00:00+00:00</th>\n",
       "      <td>1132.989990</td>\n",
       "    </tr>\n",
       "    <tr>\n",
       "      <th>2010-01-05 05:00:00+00:00</th>\n",
       "      <td>1136.520020</td>\n",
       "    </tr>\n",
       "    <tr>\n",
       "      <th>2010-01-06 05:00:00+00:00</th>\n",
       "      <td>1137.140015</td>\n",
       "    </tr>\n",
       "    <tr>\n",
       "      <th>2010-01-07 05:00:00+00:00</th>\n",
       "      <td>1141.689941</td>\n",
       "    </tr>\n",
       "    <tr>\n",
       "      <th>2010-01-08 05:00:00+00:00</th>\n",
       "      <td>1144.979980</td>\n",
       "    </tr>\n",
       "  </tbody>\n",
       "</table>\n",
       "</div>"
      ],
      "text/plain": [
       "                                 Close\n",
       "Date                                  \n",
       "2010-01-04 05:00:00+00:00  1132.989990\n",
       "2010-01-05 05:00:00+00:00  1136.520020\n",
       "2010-01-06 05:00:00+00:00  1137.140015\n",
       "2010-01-07 05:00:00+00:00  1141.689941\n",
       "2010-01-08 05:00:00+00:00  1144.979980"
      ]
     },
     "execution_count": 16,
     "metadata": {},
     "output_type": "execute_result"
    }
   ],
   "source": [
    "sp500_data = pd.read_csv('TechSavvy_sp500.csv')\n",
    "sp500_data.index = pd.to_datetime(sp500_data['Date'], utc=True)\n",
    "sp500_data.drop(columns=['Date'], inplace=True)\n",
    "sp500_data.head()"
   ]
  },
  {
   "cell_type": "code",
   "execution_count": 17,
   "metadata": {},
   "outputs": [],
   "source": [
    "risk_free_rate = 0.03"
   ]
  },
  {
   "cell_type": "code",
   "execution_count": 18,
   "metadata": {},
   "outputs": [
    {
     "data": {
      "text/plain": [
       "np.float64(3.2064723876715333)"
      ]
     },
     "execution_count": 18,
     "metadata": {},
     "output_type": "execute_result"
    }
   ],
   "source": [
    "market_prices = sp500_data['Close'].squeeze()\n",
    "market_rets = market_prices.pct_change().dropna()\n",
    "r = market_rets.mean() * 252\n",
    "var = market_rets.var() * 252\n",
    "risk_aversion = (r - risk_free_rate) / var\n",
    "risk_aversion"
   ]
  },
  {
   "cell_type": "code",
   "execution_count": 19,
   "metadata": {},
   "outputs": [
    {
     "data": {
      "text/plain": [
       "AMZN    0.234575\n",
       "GOOG    0.207070\n",
       "META    0.250358\n",
       "MSFT    0.209005\n",
       "NVDA    0.373600\n",
       "TSLA    0.298109\n",
       "TSM     0.193926\n",
       "dtype: float64"
      ]
     },
     "execution_count": 19,
     "metadata": {},
     "output_type": "execute_result"
    }
   ],
   "source": [
    "Pi = risk_aversion * cov_matrix.dot(mkt_weights)\n",
    "Pi"
   ]
  },
  {
   "cell_type": "markdown",
   "metadata": {},
   "source": [
    "# 2. Express investors' view"
   ]
  },
  {
   "cell_type": "code",
   "execution_count": 20,
   "metadata": {},
   "outputs": [
    {
     "data": {
      "text/plain": [
       "array([2. , 0.2, 0.3])"
      ]
     },
     "execution_count": 20,
     "metadata": {},
     "output_type": "execute_result"
    }
   ],
   "source": [
    "P = np.array([\n",
    "    [1, 0, 0, 0, 0, 0, 0],\n",
    "    [0, 0, 0, 0, 0, 0, 1], \n",
    "    [0, 0, -1, 1, 0, 0, 0], \n",
    "], dtype=float)\n",
    "\n",
    "Q = np.array([2, 0.2, 0.3], dtype=float)\n",
    "Q"
   ]
  },
  {
   "cell_type": "code",
   "execution_count": 21,
   "metadata": {},
   "outputs": [
    {
     "data": {
      "text/plain": [
       "array([[0.002, 0.   , 0.   ],\n",
       "       [0.   , 0.002, 0.   ],\n",
       "       [0.   , 0.   , 0.003]])"
      ]
     },
     "execution_count": 21,
     "metadata": {},
     "output_type": "execute_result"
    }
   ],
   "source": [
    "# omega = uncertainty of the investor's views\n",
    "# Since we assume views are independent, the omega is a diagonal matrix\n",
    "# the larger the value, the less confidence in the views\n",
    "omega = np.diag([0.002, 0.002, 0.003])\n",
    "omega"
   ]
  },
  {
   "cell_type": "code",
   "execution_count": 22,
   "metadata": {},
   "outputs": [],
   "source": [
    "# tau = uncertainty of the prior (equilibrium) returns\n",
    "# the smaller tau is, the more weight is given to the market view\n",
    "tau = 0.025"
   ]
  },
  {
   "cell_type": "markdown",
   "metadata": {},
   "source": [
    "# 3. Black Litterman Posterior Mean"
   ]
  },
  {
   "cell_type": "code",
   "execution_count": 23,
   "metadata": {},
   "outputs": [
    {
     "data": {
      "text/plain": [
       "array([1.18826354, 0.69299472, 0.6921722 , 0.72787785, 0.95720726,\n",
       "       0.86328344, 0.39104047])"
      ]
     },
     "execution_count": 23,
     "metadata": {},
     "output_type": "execute_result"
    }
   ],
   "source": [
    "def black_litterman_posterior(tau, Sigma, P, Omega, Pi, Q):\n",
    "    tau_Sigma = tau * Sigma\n",
    "    tau_Sigma_inv = np.linalg.inv(tau_Sigma)\n",
    "    Omega_inv = np.linalg.inv(Omega)\n",
    "    left_term = tau_Sigma_inv + P.T @ Omega_inv @ P\n",
    "    left_term_inv = np.linalg.inv(left_term)\n",
    "    right_term = tau_Sigma_inv @ Pi + P.T @ Omega_inv @ Q\n",
    "    return left_term_inv @ right_term\n",
    "\n",
    "post_rets = black_litterman_posterior(tau, cov_matrix, P, omega, Pi, Q)\n",
    "post_rets"
   ]
  },
  {
   "cell_type": "code",
   "execution_count": 24,
   "metadata": {},
   "outputs": [
    {
     "data": {
      "text/plain": [
       "AMZN    0.953688\n",
       "GOOG    0.485925\n",
       "META    0.441814\n",
       "MSFT    0.518873\n",
       "NVDA    0.583608\n",
       "TSLA    0.565174\n",
       "TSM     0.197114\n",
       "dtype: float64"
      ]
     },
     "execution_count": 24,
     "metadata": {},
     "output_type": "execute_result"
    }
   ],
   "source": [
    "# find the difference between Pi and post_rets\n",
    "post_rets - Pi"
   ]
  },
  {
   "cell_type": "markdown",
   "metadata": {},
   "source": [
    "# 4. New Optimal Weights"
   ]
  },
  {
   "cell_type": "code",
   "execution_count": 25,
   "metadata": {},
   "outputs": [
    {
     "data": {
      "text/plain": [
       "AMZN    0.972214\n",
       "GOOG    0.044942\n",
       "META   -0.166752\n",
       "MSFT    0.263998\n",
       "NVDA    0.063294\n",
       "TSLA    0.019920\n",
       "TSM    -0.197615\n",
       "dtype: float64"
      ]
     },
     "execution_count": 25,
     "metadata": {},
     "output_type": "execute_result"
    }
   ],
   "source": [
    "def black_litterman_posterior_weights(delta, posterior_returns, posterior_cov, assets):\n",
    "    posterior_cov_inv = np.linalg.inv(posterior_cov)\n",
    "    weights = (1.0 / delta) * (posterior_cov_inv @ posterior_returns)\n",
    "    weights = weights / weights.sum()\n",
    "    weights = pd.Series(weights, index=assets)\n",
    "    return weights\n",
    "\n",
    "# I didn't use posterior covariance matrix but the original covariance matrix\n",
    "# because I only want to see the difference between the original and posterior weights\n",
    "# and keep the change in the model small\n",
    "# this is the same approach as Pypfopt's BlackLittermanModel\n",
    "post_weights = black_litterman_posterior_weights(risk_aversion, post_rets, cov_matrix, assets)\n",
    "post_weights\n"
   ]
  }
 ],
 "metadata": {
  "kernelspec": {
   "display_name": "Python 3",
   "language": "python",
   "name": "python3"
  },
  "language_info": {
   "codemirror_mode": {
    "name": "ipython",
    "version": 3
   },
   "file_extension": ".py",
   "mimetype": "text/x-python",
   "name": "python",
   "nbconvert_exporter": "python",
   "pygments_lexer": "ipython3",
   "version": "3.13.2"
  }
 },
 "nbformat": 4,
 "nbformat_minor": 2
}
